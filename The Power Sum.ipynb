{
 "cells": [
  {
   "cell_type": "markdown",
   "metadata": {},
   "source": [
    "https://www.hackerrank.com/challenges/the-power-sum/problem"
   ]
  },
  {
   "cell_type": "code",
   "execution_count": null,
   "metadata": {
    "collapsed": true
   },
   "outputs": [],
   "source": [
    "# Enter your code here. Read input from STDIN. Print output to STDOUT\n",
    "def recur(x, k, n):\n",
    "    if x == 1 and k == 1:\n",
    "        return 1\n",
    "    \n",
    "    t = x - k ** n\n",
    "    if t < 0:\n",
    "        return 0\n",
    "    elif t == 0:\n",
    "        return 1\n",
    "    ans = 0\n",
    "    for i in range(1, k):\n",
    "        ans += recur(t, i, n)\n",
    "    return ans\n",
    "\n",
    "X = int(raw_input())\n",
    "N = int(raw_input())\n",
    "ans = 0\n",
    "for i in range(1, X + 1):\n",
    "    ans += recur(X, i, N)\n",
    "print ans"
   ]
  }
 ],
 "metadata": {
  "kernelspec": {
   "display_name": "Python [default]",
   "language": "python",
   "name": "python2"
  },
  "language_info": {
   "codemirror_mode": {
    "name": "ipython",
    "version": 2
   },
   "file_extension": ".py",
   "mimetype": "text/x-python",
   "name": "python",
   "nbconvert_exporter": "python",
   "pygments_lexer": "ipython2",
   "version": "2.7.13"
  }
 },
 "nbformat": 4,
 "nbformat_minor": 2
}
