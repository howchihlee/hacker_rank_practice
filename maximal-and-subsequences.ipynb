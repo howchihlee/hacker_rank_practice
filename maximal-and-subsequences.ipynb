{
 "cells": [
  {
   "cell_type": "markdown",
   "metadata": {},
   "source": [
    "https://www.hackerrank.com/contests/world-codesprint-10/challenges/maximal-and-subsequences"
   ]
  },
  {
   "cell_type": "code",
   "execution_count": 52,
   "metadata": {},
   "outputs": [
    {
     "name": "stdout",
     "output_type": "stream",
     "text": [
      "brute force:  0 6\n",
      "sol:  0 6\n"
     ]
    }
   ],
   "source": [
    "from itertools import combinations\n",
    "\n",
    "#k, inputs = 3, [6, 3, 7, 4]\n",
    "#k, inputs = 2, [21, 19, 22, 20]\n",
    "#k, inputs = 2, map(long, [21, 19, 22, 20])\n",
    "k, inputs = 2, [0, 0, 0, 0]\n",
    "n = len(inputs)\n",
    "#inputs = [i<<2 for i in inputs]\n",
    "\n",
    "#k, inputs = 4, [2010, 1090, 2020, 2000, 2001, 2002, 2003]\n",
    "#k, inputs = 3, [2010, 1090, 2020, 2000, 2001, 2002, 2003]\n",
    "#k, inputs = 3, [6, 3, 7, 4]\n",
    "#k, inputs = 2, [21, 19, 22, 20]\n",
    "\n",
    "## brute force ##\n",
    "res = []\n",
    "for items in combinations(inputs, k):\n",
    "    S = items[0]\n",
    "    for i in items:\n",
    "        S &= i\n",
    "    #print items, S\n",
    "    res.append(S)\n",
    "\n",
    "S = max(res)\n",
    "N = len([i for i in res if i == S])\n",
    "print 'brute force: ', S, N\n",
    "\n",
    "##\n",
    "res = []\n",
    "M = max(inputs)\n",
    "for i in range(60, -1, -1):\n",
    "    if M & (1 << i):\n",
    "        M = i\n",
    "        break\n",
    "        \n",
    "for i in range(M, -1, -1):\n",
    "    for a in inputs:\n",
    "        tmp = filter(lambda a: a & (1 << i) > 0, inputs)\n",
    "\n",
    "    N = len(tmp)\n",
    "    if N >= k:\n",
    "        res.append((i, N))\n",
    "        inputs = tmp\n",
    "        \n",
    "#print res\n",
    "\n",
    "import operator as op\n",
    "\n",
    "def ncr(n, r):\n",
    "    r = min(r, n-r)\n",
    "    if r == 0: return 1\n",
    "    numer = reduce(op.mul, xrange(n, n-r, -1))\n",
    "    denom = reduce(op.mul, xrange(1, r+1))\n",
    "    return numer//denom\n",
    "\n",
    "S = 0\n",
    "if res:\n",
    "    for item in res:\n",
    "        S += (1 << item[0])\n",
    "    N = ncr(res[-1][1], k)\n",
    "else:\n",
    "    N = ncr(n, k)\n",
    "#print S\n",
    "\n",
    "print 'sol: ', S, N\n",
    "\n"
   ]
  },
  {
   "cell_type": "code",
   "execution_count": 42,
   "metadata": {},
   "outputs": [
    {
     "data": {
      "text/plain": [
       "8250291250200"
      ]
     },
     "execution_count": 42,
     "metadata": {},
     "output_type": "execute_result"
    }
   ],
   "source": [
    "ncr(1000, 5)"
   ]
  },
  {
   "cell_type": "markdown",
   "metadata": {},
   "source": [
    "## submit"
   ]
  },
  {
   "cell_type": "code",
   "execution_count": 16,
   "metadata": {},
   "outputs": [
    {
     "name": "stdout",
     "output_type": "stream",
     "text": [
      "4 1\n"
     ]
    }
   ],
   "source": [
    "#!/bin/python\n",
    "\n",
    "import sys\n",
    "import operator as op\n",
    "\n",
    "def ncr(n, r):\n",
    "    r = min(r, n-r)\n",
    "    if r == 0: return 1\n",
    "    numer = reduce(op.mul, xrange(n, n-r, -1))\n",
    "    denom = reduce(op.mul, xrange(1, r+1))\n",
    "    return numer//denom\n",
    "\n",
    "def solve(n, k, inputs):\n",
    "    res = []\n",
    "    M = max(inputs)\n",
    "    for i in range(60, -1, -1):\n",
    "        if M & (1 << i):\n",
    "            M = i\n",
    "            break\n",
    "\n",
    "    for i in range(M, -1, -1):\n",
    "        tmp = filter(lambda a: a & (1 << i) > 0, inputs)\n",
    "\n",
    "        N = len(tmp)\n",
    "        if N >= k:\n",
    "            res.append((i, N))\n",
    "            inputs = tmp\n",
    "            \n",
    "    S = 0\n",
    "    if res:\n",
    "        for item in res:\n",
    "            S += (1 << item[0])\n",
    "        N = ncr(res[-1][1], k)\n",
    "    else:\n",
    "        N = ncr(n, k)\n",
    "\n",
    "    return S, N % (10 ** 9 + 7)\n",
    "\n",
    "\n",
    "n, k = raw_input().strip().split(' ')\n",
    "n, k = [int(n), int(k)]\n",
    "a = []\n",
    "a_i = 0\n",
    "for a_i in xrange(n):\n",
    "    a_t = long(raw_input().strip())\n",
    "    a.append(a_t)\n",
    "result = solve(n, k, a)\n",
    "print \"\\n\".join(map(str, result))\n"
   ]
  }
 ],
 "metadata": {
  "anaconda-cloud": {},
  "kernelspec": {
   "display_name": "Python 2",
   "language": "python",
   "name": "python2"
  },
  "language_info": {
   "codemirror_mode": {
    "name": "ipython",
    "version": 2
   },
   "file_extension": ".py",
   "mimetype": "text/x-python",
   "name": "python",
   "nbconvert_exporter": "python",
   "pygments_lexer": "ipython2",
   "version": "2.7.13"
  }
 },
 "nbformat": 4,
 "nbformat_minor": 1
}
