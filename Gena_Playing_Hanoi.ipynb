{
 "cells": [
  {
   "cell_type": "markdown",
   "metadata": {},
   "source": [
    "https://www.hackerrank.com/challenges/gena/problem"
   ]
  },
  {
   "cell_type": "code",
   "execution_count": 23,
   "metadata": {},
   "outputs": [
    {
     "name": "stdout",
     "output_type": "stream",
     "text": [
      "3\n",
      "1 4 1\n",
      "3\n"
     ]
    }
   ],
   "source": [
    "#!/bin/python\n",
    "\n",
    "import sys\n",
    "from collections import deque\n",
    "import random\n",
    "\n",
    "def get_state_from_list(state_list):\n",
    "    state = [[] for i in range(4)]\n",
    "    for i, s in enumerate(state_list):\n",
    "        state[s].append(i)\n",
    "    return [s[::-1] for s in state]\n",
    "    \n",
    "def get_next_state(state):\n",
    "    for i in range(4):\n",
    "        if not state[i]:\n",
    "            continue     \n",
    "        for j in range(4):\n",
    "            if i == j:\n",
    "                continue\n",
    "            if (state[j] and state[j][-1] < state[i][-1]):\n",
    "                continue\n",
    "            #print i, j\n",
    "            next_state = [s[:] for s in state]\n",
    "            move = next_state[i].pop()\n",
    "            next_state[j].append(move)\n",
    "            yield next_state\n",
    "\n",
    "\n",
    "def tuplify(state):\n",
    "    return tuple(tuple(s) for s in state)\n",
    "\n",
    "def bfs_search(start_state, end_state):\n",
    "    start_key = tuplify(start_state)\n",
    "    end_key = tuplify(end_state)\n",
    "    \n",
    "    que = deque([(start_state, 0)])\n",
    "    visited = set([start_key])\n",
    "\n",
    "    while que:\n",
    "        curr, curr_dep = que.popleft()\n",
    " \n",
    "        for s in get_next_state(curr):\n",
    "            s[1:4] = sorted(s[1:4], key=lambda t: t[-1] if t else 0) \n",
    "            skey = tuplify(s)\n",
    "            \n",
    "            if skey in visited:\n",
    "                continue\n",
    "\n",
    "            visited.add(skey)    \n",
    "            if  skey == end_key:\n",
    "                return curr_dep + 1\n",
    "\n",
    "            que.append((s, curr_dep + 1))\n",
    "    return\n",
    "\n",
    "N = int(raw_input().strip())\n",
    "input_list = [int(s)-1 for s in raw_input().strip().split(' ')]\n",
    "\n",
    "end_state = [[i for i in range(N)], [], [], []]\n",
    "end_state[0] = end_state[0][::-1]\n",
    "\n",
    "start_state = get_state_from_list(input_list)\n",
    "\n",
    "print bfs_search(start_state, end_state)"
   ]
  },
  {
   "cell_type": "code",
   "execution_count": null,
   "metadata": {
    "collapsed": true
   },
   "outputs": [],
   "source": []
  }
 ],
 "metadata": {
  "kernelspec": {
   "display_name": "Python [conda root]",
   "language": "python",
   "name": "conda-root-py"
  },
  "language_info": {
   "codemirror_mode": {
    "name": "ipython",
    "version": 2
   },
   "file_extension": ".py",
   "mimetype": "text/x-python",
   "name": "python",
   "nbconvert_exporter": "python",
   "pygments_lexer": "ipython2",
   "version": "2.7.13"
  }
 },
 "nbformat": 4,
 "nbformat_minor": 2
}
