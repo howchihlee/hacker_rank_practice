{
 "cells": [
  {
   "cell_type": "markdown",
   "metadata": {},
   "source": [
    "https://www.hackerrank.com/challenges/bfsshortreach/problem"
   ]
  },
  {
   "cell_type": "code",
   "execution_count": null,
   "metadata": {
    "collapsed": true
   },
   "outputs": [],
   "source": [
    "#!/bin/python\n",
    "\n",
    "import sys\n",
    "from collections import deque\n",
    "\n",
    "def bfs(g, s):\n",
    "    que = deque([(s, 0)])\n",
    "    visited = [False] * len(g)\n",
    "    visited[s] = True\n",
    "    dist = [-1] * len(g)\n",
    "    while que:\n",
    "        curr, dep = que.popleft()\n",
    "        dist[curr] = dep\n",
    "        next_dep = dep + 1\n",
    "        for n in g[curr]:\n",
    "            if visited[n]:\n",
    "                continue\n",
    "            visited[n] = True\n",
    "            que.append((n, next_dep))\n",
    "            \n",
    "    return dist\n",
    "    \n",
    "if __name__ == \"__main__\":\n",
    "    q = int(raw_input().strip())\n",
    "    for a0 in xrange(q):\n",
    "        n, m = raw_input().strip().split(' ')\n",
    "        n, m = [int(n), int(m)]\n",
    "        adj_list = [set() for i in range(n)]\n",
    "        for a1 in xrange(m):\n",
    "            u, v = raw_input().strip().split(' ')\n",
    "            u, v = [int(u)-1, int(v)-1]\n",
    "            adj_list[u].add(v)\n",
    "            adj_list[v].add(u)\n",
    "            \n",
    "        s = int(raw_input().strip())-1\n",
    "        dist = bfs(adj_list, s)\n",
    "        for i, d in enumerate(dist):\n",
    "            if i == s:\n",
    "                continue\n",
    "            if d > 0:\n",
    "                print 6 * d,\n",
    "            else:\n",
    "                print d,\n",
    "        print"
   ]
  }
 ],
 "metadata": {
  "kernelspec": {
   "display_name": "Python [conda root]",
   "language": "python",
   "name": "conda-root-py"
  },
  "language_info": {
   "codemirror_mode": {
    "name": "ipython",
    "version": 2
   },
   "file_extension": ".py",
   "mimetype": "text/x-python",
   "name": "python",
   "nbconvert_exporter": "python",
   "pygments_lexer": "ipython2",
   "version": "2.7.13"
  }
 },
 "nbformat": 4,
 "nbformat_minor": 2
}
