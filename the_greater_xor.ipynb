{
 "cells": [
  {
   "cell_type": "code",
   "execution_count": null,
   "metadata": {
    "collapsed": true
   },
   "outputs": [],
   "source": [
    "https://www.hackerrank.com/challenges/the-great-xor/problem"
   ]
  },
  {
   "cell_type": "code",
   "execution_count": null,
   "metadata": {
    "collapsed": true
   },
   "outputs": [],
   "source": [
    "#!/bin/python\n",
    "\n",
    "import sys\n",
    "\n",
    "def theGreatXor(x):\n",
    "    bit = str(bin(x))[2:]\n",
    "    ans = 0\n",
    "    n = len(bit) - 1\n",
    "    for i, s in enumerate(bit):\n",
    "        if s == '0':\n",
    "            ans += 2 ** (n-i)\n",
    "    return ans\n",
    "    # Complete this function\n",
    "\n",
    "q = int(raw_input().strip())\n",
    "for a0 in xrange(q):\n",
    "    x = long(raw_input().strip())\n",
    "    result = theGreatXor(x)\n",
    "    print(result)"
   ]
  }
 ],
 "metadata": {
  "kernelspec": {
   "display_name": "Python [default]",
   "language": "python",
   "name": "python2"
  },
  "language_info": {
   "codemirror_mode": {
    "name": "ipython",
    "version": 2
   },
   "file_extension": ".py",
   "mimetype": "text/x-python",
   "name": "python",
   "nbconvert_exporter": "python",
   "pygments_lexer": "ipython2",
   "version": "2.7.13"
  }
 },
 "nbformat": 4,
 "nbformat_minor": 2
}
