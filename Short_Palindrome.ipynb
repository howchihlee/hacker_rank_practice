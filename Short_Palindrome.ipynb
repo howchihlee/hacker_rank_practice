{
 "cells": [
  {
   "cell_type": "markdown",
   "metadata": {},
   "source": [
    "https://www.hackerrank.com/challenges/short-palindrome/problem"
   ]
  },
  {
   "cell_type": "markdown",
   "metadata": {},
   "source": [
    "Given a sequence S[i] for i in 0 ... n-1\n",
    "\n",
    "define \n",
    "\n",
    "c4(a,b,c,d,j) = #{ subsequence (a, b, c, d) in S[:j] }\n",
    "c3(a,b,c, j) = #{ subsequence (a, b, c) in S[:j] }\n",
    "c2(a,b,j) = #{ subsequence (a, b) in S[:j] }\n",
    "c1(a,j) = #{ subsequence (a,) in S[:j] }\n",
    "\n",
    "Then\n",
    "\n",
    "c4(a,b,c,d,j+1) = c4(a,b,c,d,j) if d != S[j+1]\n",
    "\n",
    "and \n",
    "\n",
    "c4(a,b,c,d,j+1) = C4(a,b,c,d,j) + C3(a,b,c,j) if d = S[j+1]\n",
    "\n",
    "The second equation is because, the set { subsequence (a, b, c, d) in S[:j+1]} can be partitioned into two disjoint sets\n",
    "\n",
    "{ subsequence (a, b, c, d) in S[:j+1], d does not locate at j+1} = { subsequence (a, b, c, d) in S[:j]} \n",
    "\n",
    "and\n",
    "\n",
    "{ subsequence (a, b, c, d) in S[:j+1] d locate at j} = { subsequence (a, b, c) in S[:j]}.\n",
    "\n",
    "and hence the updating rule.\n",
    "\n",
    "Similarly \n",
    "\n",
    "we have\n",
    "c3(a, b, c, j+1) = c4(a, b, c,j) if c != S[j+1]\n",
    "c3(a, b, c, j+1) = C3(a, b, c, j) + C2(a, b, j) if d = S[j+1],\n",
    "\n",
    "c2(a, b, j+1) = c2(a, b, j) if b != S[j+1]\n",
    "c2(a, b, j+1) = C2(a, b, j) + C1(a, j) if b = S[j+1],\n",
    "\n",
    "and \n",
    "\n",
    "c1(a, j+1) = c1(a, j) if b != S[j+1]\n",
    "c1(a, j+1) = C1(a, j) + 1 if a = S[j+1].\n",
    "\n",
    "To count the number of short palindromes, we only n (a, b, b, a), the updating rules can be further simplified \n"
   ]
  },
  {
   "cell_type": "code",
   "execution_count": null,
   "metadata": {
    "collapsed": true
   },
   "outputs": [],
   "source": [
    "st = raw_input()\n",
    "c4 = [[0] * 26 for i in range(26)]\n",
    "c3 = [[0] * 26 for i in range(26)]\n",
    "c2 = [[0] * 26 for i in range(26)]\n",
    "c1 = [0] * 26\n",
    "ord_dic = {}\n",
    "base = 10 ** 9 + 7\n",
    "\n",
    "N_dic = 0\n",
    "for j in st:\n",
    "    \n",
    "    if j not in ord_dic:  ## kind of make it slightly faster\n",
    "        ord_dic[j] = N_dic\n",
    "        N_dic += 1\n",
    "        \n",
    "    c = ord_dic[j]\n",
    "    for i in range(N_dic):\n",
    "        if c3[i][c]: ## kind of make it slightly faster\n",
    "            c4[c][i] = (c4[c][i] + c3[i][c]) % base\n",
    "            \n",
    "        if c2[c][i]: ## kind of make it slightly faster\n",
    "            c3[c][i] = (c3[c][i] + c2[c][i]) % base\n",
    "        c2[c][i] = (c2[c][i] + c1[i]) % base\n",
    "    c1[c] += 1\n",
    "    \n",
    "ans = 0\n",
    "for row in c4:\n",
    "    for r in row:\n",
    "        ans =  (ans + r) % base\n",
    "print ans"
   ]
  }
 ],
 "metadata": {
  "kernelspec": {
   "display_name": "Python [default]",
   "language": "python",
   "name": "python2"
  },
  "language_info": {
   "codemirror_mode": {
    "name": "ipython",
    "version": 2
   },
   "file_extension": ".py",
   "mimetype": "text/x-python",
   "name": "python",
   "nbconvert_exporter": "python",
   "pygments_lexer": "ipython2",
   "version": "2.7.13"
  }
 },
 "nbformat": 4,
 "nbformat_minor": 2
}
