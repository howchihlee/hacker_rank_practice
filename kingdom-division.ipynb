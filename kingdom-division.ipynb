{
 "cells": [
  {
   "cell_type": "markdown",
   "metadata": {},
   "source": [
    "https://www.hackerrank.com/challenges/kingdom-division/problem"
   ]
  },
  {
   "cell_type": "markdown",
   "metadata": {},
   "source": [
    "## recursion, clean but can cause segmentation fault"
   ]
  },
  {
   "cell_type": "code",
   "execution_count": null,
   "metadata": {
    "collapsed": true
   },
   "outputs": [],
   "source": [
    "# Enter your code here. Read input from STDIN. Print output to STDOUT\n",
    "import sys\n",
    "sys.setrecursionlimit(10**9)\n",
    "    \n",
    "base = 10 ** 9 + 7\n",
    "def dfs(n, tree):\n",
    "    pb1, pb2 = 1, 1\n",
    "    for c in tree[n]:\n",
    "        b0, b1 = dfs(c, tree)\n",
    "        pb1 *= (b0 + 2 * b1) % base\n",
    "        pb2 *= b1 % base\n",
    "    return pb2 % base, (pb1 - pb2) % base\n",
    "\n",
    "def dfs_tree(n, graph, visited, tree):\n",
    "    visited[n] = True\n",
    "    for ch in graph[n]:\n",
    "        if visited[ch]:\n",
    "            continue\n",
    "        tree[n].add(ch)\n",
    "        dfs_tree(ch, graph, visited, tree)\n",
    "        \n",
    "n = int(raw_input())\n",
    "graph = [set() for i in range(n)]\n",
    "for i in range(n - 1):\n",
    "    e1, e2 = [int(i) - 1 for i in raw_input().split()]\n",
    "    graph[e1].add(e2)\n",
    "    graph[e2].add(e1)\n",
    "\n",
    "tree = [set() for i in range(n)]\n",
    "visited = [False] * n\n",
    "dfs_tree(1, graph, visited, tree)\n",
    "\n",
    "b0, b1 = dfs(1, tree)\n",
    "print (2 * b1) % base"
   ]
  },
  {
   "cell_type": "markdown",
   "metadata": {},
   "source": [
    "## iterative version"
   ]
  },
  {
   "cell_type": "code",
   "execution_count": null,
   "metadata": {
    "collapsed": true
   },
   "outputs": [],
   "source": [
    "# Enter your code here. Read input from STDIN. Print output to STDOUT\n",
    "base = 10 ** 9 + 7\n",
    "def dfs_iter(n, graph):\n",
    "    tree = {}\n",
    "    visited = [False] * len(graph)\n",
    "    que = [(n, None, 0)]\n",
    "    val = [[1, 1] for i in range(len(graph))]\n",
    "    \n",
    "    while que:\n",
    "        curr, par, color = que.pop()\n",
    "        if color == 0:\n",
    "            que.append((curr, par, 1))\n",
    "            visited[curr] = True\n",
    "            for c in graph[curr]:\n",
    "                if visited[c]:\n",
    "                    continue\n",
    "                que.append((c, curr, 0))\n",
    "        else:\n",
    "            pb1, pb2 = val[curr][0], val[curr][1]\n",
    "            b0, b1 = pb2 % base, (pb1 - pb2) % base\n",
    "            val[curr] = [b0, b1]\n",
    "            if par != None:\n",
    "                val[par][0] *= (b0 + 2 * b1) % base\n",
    "                val[par][1] *= b1 % base\n",
    "    return (2 * val[n][1]) % base\n",
    "\n",
    "n = int(raw_input())\n",
    "graph = [set() for i in range(n)]\n",
    "for i in range(n - 1):\n",
    "    e1, e2 = [int(i) - 1 for i in raw_input().split()]\n",
    "    graph[e1].add(e2)\n",
    "    graph[e2].add(e1)\n",
    "\n",
    "print dfs_iter(1, graph)"
   ]
  },
  {
   "cell_type": "code",
   "execution_count": null,
   "metadata": {
    "collapsed": true
   },
   "outputs": [],
   "source": []
  }
 ],
 "metadata": {
  "kernelspec": {
   "display_name": "Python [default]",
   "language": "python",
   "name": "python2"
  },
  "language_info": {
   "codemirror_mode": {
    "name": "ipython",
    "version": 2
   },
   "file_extension": ".py",
   "mimetype": "text/x-python",
   "name": "python",
   "nbconvert_exporter": "python",
   "pygments_lexer": "ipython2",
   "version": "2.7.13"
  }
 },
 "nbformat": 4,
 "nbformat_minor": 2
}
