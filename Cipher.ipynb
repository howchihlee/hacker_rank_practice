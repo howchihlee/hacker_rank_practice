{
 "cells": [
  {
   "cell_type": "markdown",
   "metadata": {},
   "source": [
    "https://www.hackerrank.com/challenges/cipher/problem"
   ]
  },
  {
   "cell_type": "code",
   "execution_count": null,
   "metadata": {
    "collapsed": true
   },
   "outputs": [],
   "source": [
    "# Enter your code here. Read input from STDIN. Print output to STDOUT\n",
    "from collections import deque\n",
    "\n",
    "N, K = map(int, raw_input().split())\n",
    "encode = map(int, raw_input())\n",
    "que = deque([])\n",
    "decode = ''\n",
    "curr = 0\n",
    "for e in encode[:N]:\n",
    "    nex = curr ^ e\n",
    "    decode += str(nex)\n",
    "    \n",
    "    if len(que) == K-1:\n",
    "        last = que.popleft()\n",
    "        curr ^= last\n",
    "    curr ^= nex\n",
    "    que.append(nex)\n",
    "print decode"
   ]
  }
 ],
 "metadata": {
  "kernelspec": {
   "display_name": "Python [default]",
   "language": "python",
   "name": "python2"
  },
  "language_info": {
   "codemirror_mode": {
    "name": "ipython",
    "version": 2
   },
   "file_extension": ".py",
   "mimetype": "text/x-python",
   "name": "python",
   "nbconvert_exporter": "python",
   "pygments_lexer": "ipython2",
   "version": "2.7.13"
  }
 },
 "nbformat": 4,
 "nbformat_minor": 2
}
