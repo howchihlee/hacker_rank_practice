{
 "cells": [
  {
   "cell_type": "markdown",
   "metadata": {},
   "source": [
    "https://www.hackerrank.com/challenges/maximizing-xor/problem"
   ]
  },
  {
   "cell_type": "markdown",
   "metadata": {},
   "source": [
    "The proof goes like 1. estimate a upper bound of $\\max(A\\mathbin{\\oplus}B)$ and 2. find $A$ and $B$ that satisfies the constraint and achieves the upper bound. \n",
    "\n",
    "Let $0\\leq a, b < 2^n$, it is easy to see that $a\\mathbin{\\oplus}b \\leq 2^n-1$ (since $a$, $b$ have at most n bits, so the bitwise xor can not be larger than $2^n-1$).\n",
    "\n",
    "Now assume that $0\\leq L < 2^{n-1}$ and $2^{n-1}\\leq R < 2^n$. This is equivalent to that the binary expansion of $L$ and $R$ differs by the most significant bit, i.e.,\n",
    "$L = [l_0, l_1, \\dots, l_{n-2}, 0]$ and $R = [r_0, r_1, \\dots, r_{n-2}, 1]$.\n",
    "\n",
    "Then\n",
    "$A = 2^{n-1}$ and $B = 2^{n-1}-1$ satisfies $L\\leq A, B \\leq R$ and $A\\mathbin{\\oplus}B =2^n-1$ which achieve the upper bound of the xor of two numbers less than $2^n$. Thus the maximum of $A\\mathbin{\\oplus}B$ for $L\\leq A, B \\leq R$ is $2^n-1$, where n is the bit length of $R$.   "
   ]
  },
  {
   "cell_type": "markdown",
   "metadata": {},
   "source": [
    "## An example\n",
    "Let's say $L = 10101$ (binary) and $R = 11100$, then we can construct:\n",
    "\n",
    "$A = 11000$ (put 1 at the most significant bit followed by 0s) and \n",
    "\n",
    "$B =10111$ (put 0 at the most significant bit followed by 1s) \n",
    "\n",
    "so that $\\max(A\\mathbin{\\oplus}B) = 1111 = 2^4-1$. And the constraints $L\\leq A, B\\leq R$ are always satisfied."
   ]
  },
  {
   "cell_type": "code",
   "execution_count": null,
   "metadata": {
    "collapsed": true
   },
   "outputs": [],
   "source": [
    "def  maxXor( l,  r):\n",
    "    a = l ^ r\n",
    "    return 2 ** (len(str(bin(a))) - 2) - 1\n",
    "\n",
    "_l = int(raw_input());\n",
    "_r = int(raw_input());\n",
    "\n",
    "res = maxXor(_l, _r);\n",
    "print(res)"
   ]
  }
 ],
 "metadata": {
  "kernelspec": {
   "display_name": "Python [default]",
   "language": "python",
   "name": "python2"
  },
  "language_info": {
   "codemirror_mode": {
    "name": "ipython",
    "version": 2
   },
   "file_extension": ".py",
   "mimetype": "text/x-python",
   "name": "python",
   "nbconvert_exporter": "python",
   "pygments_lexer": "ipython2",
   "version": "2.7.13"
  }
 },
 "nbformat": 4,
 "nbformat_minor": 2
}
