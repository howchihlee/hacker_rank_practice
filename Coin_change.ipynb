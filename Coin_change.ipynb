{
 "cells": [
  {
   "cell_type": "markdown",
   "metadata": {},
   "source": [
    "https://www.hackerrank.com/challenges/coin-change/problem"
   ]
  },
  {
   "cell_type": "markdown",
   "metadata": {},
   "source": [
    "Let M[k, i] = ways of changes for k units using first i coins\n",
    "\n",
    "and M[0, i] = 1\n",
    "\n",
    "then \n",
    "\n",
    "M[k, i] = sum over (0 <= d <= k / c_i) M[k - d * c_i, i-1] for k > 0"
   ]
  },
  {
   "cell_type": "code",
   "execution_count": null,
   "metadata": {
    "collapsed": true
   },
   "outputs": [],
   "source": [
    "n, m = (int(x) for x in raw_input().strip().split())\n",
    "cs = sorted((int(x) for x in raw_input().strip().split()))\n",
    "\n",
    "m0 = [1] + [0] * n \n",
    "for i, c in enumerate(cs):\n",
    "    m1 = [1] + [0] * n \n",
    "    for j in range(1, n+1):\n",
    "        for d in range(j+1):\n",
    "            dis = d * c\n",
    "            if dis > j:\n",
    "                break\n",
    "            m1[j] += m0[j - dis]\n",
    "    m0 = m1[:]\n",
    "print m0[-1]"
   ]
  }
 ],
 "metadata": {
  "kernelspec": {
   "display_name": "Python [default]",
   "language": "python",
   "name": "python2"
  },
  "language_info": {
   "codemirror_mode": {
    "name": "ipython",
    "version": 2
   },
   "file_extension": ".py",
   "mimetype": "text/x-python",
   "name": "python",
   "nbconvert_exporter": "python",
   "pygments_lexer": "ipython2",
   "version": "2.7.13"
  }
 },
 "nbformat": 4,
 "nbformat_minor": 2
}
