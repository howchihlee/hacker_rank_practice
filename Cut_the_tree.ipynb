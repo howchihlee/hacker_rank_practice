{
 "cells": [
  {
   "cell_type": "markdown",
   "metadata": {},
   "source": [
    "https://www.hackerrank.com/challenges/cut-the-tree/copy-from/55322714"
   ]
  },
  {
   "cell_type": "code",
   "execution_count": null,
   "metadata": {
    "collapsed": true
   },
   "outputs": [],
   "source": [
    "## read inputs\n",
    "def add_directed_edge(tree, start, to):\n",
    "    if e1 not in tree:\n",
    "        tree[start] = set()\n",
    "    tree[start].add(to)\n",
    "    \n",
    "def add_undirected_edge(tree, e1, e2):\n",
    "    add_directed_edge(tree, e1, e2)\n",
    "    add_directed_edge(tree, e2, e1)\n",
    "    \n",
    "T = int(raw_input().strip())\n",
    "vals = map(int, raw_input().strip().split())\n",
    "tree = {}\n",
    "\n",
    "for i in range(T-1):\n",
    "    e1, e2 = map(int, raw_input().strip().split())\n",
    "    e1 -= 1 ## start from 0\n",
    "    e2 -= 1 ## \n",
    "    \n",
    "    add_undirected_edge(tree, e1, e2) ## adjacency list\n",
    "\n",
    "## main\n",
    "total_val = sum(vals) ## sum of all nodes\n",
    "\n",
    "visited = set()\n",
    "que = [(e2, 0)]\n",
    "tree_val = {}\n",
    "\n",
    "while que:\n",
    "    curr, state = que.pop()\n",
    "    if state == 0: ## expand\n",
    "        visited.add(curr)\n",
    "        que.append((curr, 1))\n",
    "        tree[curr] = tree[curr] - visited ## building rooted tree\n",
    "        for ch in tree[curr]:\n",
    "            que.append((ch, 0))\n",
    "    else:\n",
    "        val = vals[curr]\n",
    "        for ch in tree[curr]:\n",
    "            val += tree_val[ch]\n",
    "        tree_val[curr] = val ## val is the sum of all nodes in sub-tree rooted in curr\n",
    "\n",
    "print min([abs(total_val - 2 * v) for c, v in tree_val.items() if c != e2])"
   ]
  }
 ],
 "metadata": {
  "kernelspec": {
   "display_name": "Python [conda env:py36]",
   "language": "python",
   "name": "conda-env-py36-py"
  },
  "language_info": {
   "codemirror_mode": {
    "name": "ipython",
    "version": 3
   },
   "file_extension": ".py",
   "mimetype": "text/x-python",
   "name": "python",
   "nbconvert_exporter": "python",
   "pygments_lexer": "ipython3",
   "version": "3.6.2"
  }
 },
 "nbformat": 4,
 "nbformat_minor": 2
}
