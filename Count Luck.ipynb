{
 "cells": [
  {
   "cell_type": "markdown",
   "metadata": {},
   "source": [
    "https://www.hackerrank.com/challenges/count-luck/problem"
   ]
  },
  {
   "cell_type": "code",
   "execution_count": 8,
   "metadata": {
    "collapsed": true
   },
   "outputs": [],
   "source": [
    "# Enter your code here. Read input from STDIN. Print output to STDOUT\n",
    "def get_info(grid, m, n):\n",
    "    nbrs = [(1, 0),(-1, 0),(0, 1),(0, -1)]\n",
    "    graph = {}\n",
    "    for i in range(m):\n",
    "        for j in range(n):\n",
    "            if grid[i][j] == 'X': \n",
    "                continue\n",
    "            if grid[i][j] == 'M':\n",
    "                M = i, j\n",
    "            if grid[i][j] == '*':\n",
    "                s = i, j\n",
    "         \n",
    "            graph[(i, j)] = set()\n",
    "            for mv in nbrs:\n",
    "                i0, j0 = i + mv[0], j + mv[1]  \n",
    "                if i0 < m and j0 < n and i0 >= 0 and j0 >= 0 and grid[i0][j0] != 'X':\n",
    "                    graph[(i, j)].add((i0, j0))\n",
    "    return graph, s, M\n",
    "\n",
    "def dfs_helper(curr, t, graph, curr_branch, visited, ans):\n",
    "    if curr == t:\n",
    "        ans[0] = min(curr_branch, ans[0])\n",
    "        return \n",
    "    \n",
    "    visited[curr] = True\n",
    "    for n in graph[curr]:\n",
    "        if visited[n]:\n",
    "            continue\n",
    "            \n",
    "        dfs_helper(n, t, graph, curr_branch + (len(graph[n]) > 2), visited, ans)\n",
    "            \n",
    "    visited[curr] = False\n",
    "    \n",
    "if __name__ == '__main__':\n",
    "    T = int(raw_input().strip())\n",
    "    \n",
    "    for t in range(T):\n",
    "        tmp = map(int, raw_input().strip().split(\" \"))\n",
    "        m, n = tmp[0], tmp[1]\n",
    "        grid = []\n",
    "        for i in range(m):\n",
    "            grid.append(list(raw_input().strip()))\n",
    "        \n",
    "        graph, s, M = get_info(grid, m, n)\n",
    "        ans = [float('Inf')]\n",
    "        visited = {g:False for g in graph}\n",
    "        \n",
    "        ## taking care of corner cases of M or/and s is on a branch\n",
    "        n_init = (len(graph[M]) > 1) - (len(graph[s]) > 2) \n",
    "        dfs_helper(M, s, graph, n_init, visited, ans)\n",
    "        \n",
    "        K = int(raw_input().strip())\n",
    "        if K == ans[0]:\n",
    "            print 'Impressed'\n",
    "        else:\n",
    "            print 'Oops!'\n"
   ]
  }
 ],
 "metadata": {
  "kernelspec": {
   "display_name": "Python [default]",
   "language": "python",
   "name": "python2"
  },
  "language_info": {
   "codemirror_mode": {
    "name": "ipython",
    "version": 2
   },
   "file_extension": ".py",
   "mimetype": "text/x-python",
   "name": "python",
   "nbconvert_exporter": "python",
   "pygments_lexer": "ipython2",
   "version": "2.7.13"
  }
 },
 "nbformat": 4,
 "nbformat_minor": 2
}
