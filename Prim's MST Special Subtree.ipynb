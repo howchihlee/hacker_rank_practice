{
 "cells": [
  {
   "cell_type": "markdown",
   "metadata": {},
   "source": [
    "https://www.hackerrank.com/challenges/primsmstsub/problem\n",
    "\n",
    "brutal force but accepted..."
   ]
  },
  {
   "cell_type": "code",
   "execution_count": null,
   "metadata": {
    "collapsed": true
   },
   "outputs": [],
   "source": [
    "n, m = map(int, raw_input().split())\n",
    "graph = {i+1:{} for i in range(n)}\n",
    "for i in range(m):\n",
    "    e1, e2, w = map(int, raw_input().split())\n",
    "    graph[e1][e2] = w\n",
    "    graph[e2][e1] = w\n",
    "\n",
    "s = int(raw_input())\n",
    "\n",
    "visited = set([s])\n",
    "cost = 0\n",
    "for i in range(n-1):\n",
    "    min_node, min_weight = -1, float('Inf')\n",
    "    for v in visited:\n",
    "        for u, w in graph[v].items():\n",
    "            if u not in visited and w < min_weight:\n",
    "                min_weight = w\n",
    "                min_node = u\n",
    "    visited.add(min_node)\n",
    "    cost += min_weight\n",
    "        \n",
    "print cost"
   ]
  }
 ],
 "metadata": {
  "kernelspec": {
   "display_name": "Python [default]",
   "language": "python",
   "name": "python2"
  },
  "language_info": {
   "codemirror_mode": {
    "name": "ipython",
    "version": 2
   },
   "file_extension": ".py",
   "mimetype": "text/x-python",
   "name": "python",
   "nbconvert_exporter": "python",
   "pygments_lexer": "ipython2",
   "version": "2.7.13"
  }
 },
 "nbformat": 4,
 "nbformat_minor": 2
}
