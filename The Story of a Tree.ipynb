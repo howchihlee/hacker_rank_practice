{
 "cells": [
  {
   "cell_type": "markdown",
   "metadata": {},
   "source": [
    "https://www.hackerrank.com/challenges/the-story-of-a-tree/problem"
   ]
  },
  {
   "cell_type": "code",
   "execution_count": null,
   "metadata": {
    "collapsed": true
   },
   "outputs": [],
   "source": [
    "#!/bin/python\n",
    "\n",
    "import sys\n",
    "import fractions\n",
    "\n",
    "def dfs_tree(graph, n, visited, tree):\n",
    "    visited[n] = True\n",
    "    for c in graph[n]:\n",
    "        if visited[c]:\n",
    "            continue\n",
    "        tree[n].add(c)\n",
    "        dfs_tree(graph, c, visited, tree)\n",
    "    \n",
    "def dfs2(tree, n, ccs, guess):    \n",
    "    for c in tree[n]:\n",
    "        ccs[c] = ccs[n]\n",
    "        if (n, c) in guess:\n",
    "            ccs[c] -= 1\n",
    "        if (c, n) in guess:\n",
    "            ccs[c] += 1 \n",
    "        dfs2(tree, c, ccs, guess)\n",
    "    return\n",
    "\n",
    "q = int(raw_input().strip())\n",
    "for a0 in xrange(q):\n",
    "    n = int(raw_input().strip())\n",
    "    \n",
    "    graph = [set() for i in range(n)]\n",
    "    for a1 in xrange(n-1):\n",
    "        u,v = raw_input().strip().split(' ')\n",
    "        u,v = [int(u) - 1,int(v) - 1]\n",
    "        graph[u].add(v)\n",
    "        graph[v].add(u)\n",
    "        \n",
    "    g,k = raw_input().strip().split(' ')\n",
    "    g,k = [int(g),int(k)]\n",
    "    guess = set()\n",
    "    for a1 in xrange(g):\n",
    "        u,v = raw_input().strip().split(' ')\n",
    "        guess.add((int(u) - 1, int(v) - 1))\n",
    "    \n",
    "    tree = [set() for i in range(n)]\n",
    "    visited = [False] * n    \n",
    "    dfs_tree(graph, 0, visited, tree)\n",
    "    ccs = [0] * n\n",
    "    for par, ch in guess:\n",
    "        if ch in tree[par]:\n",
    "            ccs[0] += 1\n",
    "\n",
    "    dfs2(tree, 0, ccs, guess)\n",
    "    score = 0\n",
    "    for c in ccs:\n",
    "        if c >= k:\n",
    "            score += 1\n",
    "    \n",
    "    gc = fractions.gcd(score, n)\n",
    "    print '%d/%d' % (score / gc, n / gc)\n"
   ]
  }
 ],
 "metadata": {
  "kernelspec": {
   "display_name": "Python [conda root]",
   "language": "python",
   "name": "conda-root-py"
  },
  "language_info": {
   "codemirror_mode": {
    "name": "ipython",
    "version": 2
   },
   "file_extension": ".py",
   "mimetype": "text/x-python",
   "name": "python",
   "nbconvert_exporter": "python",
   "pygments_lexer": "ipython2",
   "version": "2.7.13"
  }
 },
 "nbformat": 4,
 "nbformat_minor": 2
}
