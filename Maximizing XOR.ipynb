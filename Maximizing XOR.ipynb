{
 "cells": [
  {
   "cell_type": "markdown",
   "metadata": {},
   "source": [
    "https://www.hackerrank.com/challenges/maximizing-xor/problem"
   ]
  },
  {
   "cell_type": "markdown",
   "metadata": {},
   "source": [
    "Let $0\\leq a, b < 2^n$, it is easy to see that $a\\mathbin{\\oplus}b \\leq 2^n-1$ (since $a$, $b$ have at most n bits, so the bitwise xor can not be larger than $2^n-1$).\n",
    "\n",
    "Now assume that $0\\leq L < 2^{n-1}$ and $2^{n-1}\\leq R < 2^n$. This is equivalent to that the binary expansion of $L$ and $R$ differs by the most significant bit, i.e.,\n",
    "$L = [l_0, l_1, \\dots, l_{n-2}, 0]$ and $R = [r_0, r_1, \\dots, r_{n-2}, 1]$.\n",
    "\n",
    "Then\n",
    "$A = 2^{n-1}$ and $B = 2^{n-1}-1$ satisfies $L\\leq A, B \\leq R$ and $A\\mathbin{\\oplus}B =2^n-1$ which achieve the upper bound of the xor of two numbers less than $2^n$. Thus the maximum of $A\\mathbin{\\oplus}B$ for $L\\leq A, B \\leq R$ is $2^n-1$, where n is the bit length of $R$.   "
   ]
  },
  {
   "cell_type": "code",
   "execution_count": null,
   "metadata": {
    "collapsed": true
   },
   "outputs": [],
   "source": [
    "def  maxXor( l,  r):\n",
    "    a = l ^ r\n",
    "    return 2 ** (len(str(bin(a))) - 2) - 1\n",
    "\n",
    "_l = int(raw_input());\n",
    "_r = int(raw_input());\n",
    "\n",
    "res = maxXor(_l, _r);\n",
    "print(res)"
   ]
  }
 ],
 "metadata": {
  "kernelspec": {
   "display_name": "Python [default]",
   "language": "python",
   "name": "python2"
  },
  "language_info": {
   "codemirror_mode": {
    "name": "ipython",
    "version": 2
   },
   "file_extension": ".py",
   "mimetype": "text/x-python",
   "name": "python",
   "nbconvert_exporter": "python",
   "pygments_lexer": "ipython2",
   "version": "2.7.13"
  }
 },
 "nbformat": 4,
 "nbformat_minor": 2
}
