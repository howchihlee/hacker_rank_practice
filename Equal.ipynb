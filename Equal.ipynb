{
 "cells": [
  {
   "cell_type": "markdown",
   "metadata": {},
   "source": [
    "https://www.hackerrank.com/challenges/equal/problem"
   ]
  },
  {
   "cell_type": "code",
   "execution_count": 1,
   "metadata": {},
   "outputs": [
    {
     "name": "stdout",
     "output_type": "stream",
     "text": [
      "1\n",
      "2\n",
      "1 2\n",
      "1\n"
     ]
    }
   ],
   "source": [
    "# Enter your code here. Read input from STDIN. Print output to STDOUT\n",
    "def minium_operation(i):\n",
    "    if i == 0:\n",
    "        return 0\n",
    " \n",
    "    n1, r = i // 5, i % 5\n",
    "    n2, n3 = r//2, r % 2\n",
    "    return n1 + n2 + n3\n",
    "\n",
    "\n",
    "T = int(raw_input().strip())\n",
    "for t in range(T):\n",
    "    N = int(raw_input().strip())\n",
    "    num_list = map(int, raw_input().strip().split())\n",
    "    m = min(num_list)\n",
    "    num_list = [n - m for n in num_list]\n",
    "    \n",
    "    cmin = float('Inf')\n",
    "    for i in range(5):\n",
    "        c = 0\n",
    "        for n in num_list:\n",
    "             c += minium_operation(n + i)   \n",
    "        cmin = min(c, cmin)\n",
    "    print cmin"
   ]
  },
  {
   "cell_type": "code",
   "execution_count": 12,
   "metadata": {},
   "outputs": [
    {
     "name": "stdout",
     "output_type": "stream",
     "text": [
      "[5, 9, 9] [4, 3, 5, 6, 8]\n",
      "[3, 0, 3] [4, 5, 3, 6, 6]\n",
      "[4, 9, 0] [5, 4, 6, 7, 9]\n",
      "[9, 5, 9] [4, 3, 5, 6, 8]\n",
      "[2, 5, 10] [5, 6, 4, 7, 7]\n",
      "[1, 5, 5] [4, 3, 5, 6, 8]\n",
      "[4, 8, 8] [4, 3, 5, 6, 8]\n",
      "[4, 1, 9] [5, 6, 4, 7, 7]\n",
      "[8, 8, 4] [4, 3, 5, 6, 8]\n",
      "[6, 6, 3] [4, 5, 3, 6, 6]\n",
      "[0, 3, 8] [5, 6, 4, 7, 7]\n"
     ]
    }
   ],
   "source": [
    "import random\n",
    "\n",
    "for ite in range(100):\n",
    "    num_list = [random.randint(0, 10) for i in range(3)]\n",
    "    m = min(num_list)\n",
    "    a_num_list = [n - m for n in num_list]\n",
    "    \n",
    "    c = [0] * 5\n",
    "    for i in range(5):\n",
    "        for n in a_num_list:\n",
    "            c[i] += minium_operation(n + i)   \n",
    "    if c[0] > min(c):\n",
    "        print num_list, c"
   ]
  },
  {
   "cell_type": "code",
   "execution_count": null,
   "metadata": {
    "collapsed": true
   },
   "outputs": [],
   "source": []
  }
 ],
 "metadata": {
  "kernelspec": {
   "display_name": "Python 2",
   "language": "python",
   "name": "python2"
  },
  "language_info": {
   "codemirror_mode": {
    "name": "ipython",
    "version": 2
   },
   "file_extension": ".py",
   "mimetype": "text/x-python",
   "name": "python",
   "nbconvert_exporter": "python",
   "pygments_lexer": "ipython2",
   "version": "2.7.13"
  }
 },
 "nbformat": 4,
 "nbformat_minor": 2
}
